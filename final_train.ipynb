{
 "cells": [
  {
   "cell_type": "code",
   "execution_count": 1,
   "id": "10f0e794",
   "metadata": {},
   "outputs": [],
   "source": [
    "from unet.model import UNet3DfMRI\n",
    "from unet.dataset import FMRI3DDataset"
   ]
  },
  {
   "cell_type": "code",
   "execution_count": 2,
   "id": "0a8b8929",
   "metadata": {},
   "outputs": [],
   "source": [
    "\n",
    "import torch\n",
    "import os\n",
    "import torch.nn as nn\n",
    "import numpy as np\n",
    "from torch.utils.data import DataLoader, random_split\n",
    "from torchvision.utils import save_image\n",
    "from torchvision import transforms\n",
    "from torch.utils.tensorboard import SummaryWriter\n",
    "from torchvision.utils import make_grid\n",
    "from tqdm import tqdm  \n",
    "from skimage.metrics import peak_signal_noise_ratio, structural_similarity\n",
    "\n",
    "\n",
    "from unet.dataset import FMRI3DDataset\n",
    "from unet.evaluate import evaluate_model\n",
    "\n",
    "\n",
    "# -----------------------------\n",
    "# Training \n",
    "# -----------------------------\n",
    "def train_model(model: nn.Module, dataloader: DataLoader, device, epochs: int = 6, lr: float = 1e-4, writer: SummaryWriter = None, resume_from: int = 0):\n",
    "    model.train()\n",
    "    model.to(device)\n",
    "    current_lr = lr\n",
    "    optimizer = torch.optim.Adam(model.parameters(), lr=current_lr)\n",
    "    lr_updated = False  # Flag to track lr change\n",
    "    loss_fn = nn.MSELoss()\n",
    "\n",
    "    global_step = 0\n",
    "\n",
    "    save_dir = f\"./saved_images/\"\n",
    "    os.makedirs(save_dir, exist_ok=True)\n",
    "\n",
    "    for epoch in range(resume_from, epochs):\n",
    "        total_loss = 0\n",
    "        progress_bar = tqdm(dataloader, desc=f\"Epoch {epoch+1}/{epochs}\", leave=False)\n",
    "\n",
    "        for batch_idx, (x, y) in enumerate(progress_bar):\n",
    "            x, y = x.to(device), y.to(device)\n",
    "            pred = model(x)\n",
    "\n",
    "            # Delete extra padded dimension before computing loss\n",
    "           \n",
    "\n",
    "            # Create masks\n",
    "            threshold = 0.3  \n",
    "            bright_mask = (y > threshold).float()\n",
    "            dark_mask = 1.0 - bright_mask \n",
    "\n",
    "            per_voxel_loss = loss_fn(pred, y)\n",
    "\n",
    "            # Apply masks\n",
    "            bright_loss = (per_voxel_loss * bright_mask).sum() / bright_mask.sum().clamp(min=1.0)\n",
    "            dark_loss = (per_voxel_loss * dark_mask).sum() / dark_mask.sum().clamp(min=1.0)\n",
    "\n",
    "            # Weighted total loss\n",
    "            loss = 0.8 * bright_loss + 0.2 * dark_loss\n",
    "            loss *= 1e2\n",
    "\n",
    "            optimizer.zero_grad()\n",
    "            loss.backward()\n",
    "            optimizer.step()\n",
    "\n",
    "            total_loss += loss.item()\n",
    "            progress_bar.set_postfix(loss=loss.item())\n",
    "\n",
    "            #Scalar logging every 10 iterations\n",
    "            if global_step % 10 == 0:\n",
    "                writer.add_scalar(\"Loss/train\", loss.item(), global_step)\n",
    "                pred_np = pred.detach().cpu().numpy()\n",
    "                y_np = y.detach().cpu().numpy()\n",
    "\n",
    "                psnr_total = 0.0\n",
    "                ssim_total = 0.0\n",
    "                \n",
    "                # Calculate over entire batch\n",
    "                for i in range(pred_np.shape[0]):  \n",
    "                    pred_vol = np.squeeze(pred_np[i])\n",
    "                    y_vol = np.squeeze(y_np[i])\n",
    "\n",
    "                    psnr = peak_signal_noise_ratio(y_vol, pred_vol, data_range=1.0)\n",
    "                    ssim = structural_similarity(y_vol, pred_vol, data_range=1.0)\n",
    "\n",
    "                    psnr_total += psnr\n",
    "                    ssim_total += ssim\n",
    "\n",
    "                avg_psnr = psnr_total / pred_np.shape[0]\n",
    "                avg_ssim = ssim_total / pred_np.shape[0]\n",
    "\n",
    "                writer.add_scalar(\"Train/Loss\", loss.item(), global_step)\n",
    "                writer.add_scalar(\"Train/PSNR\", avg_psnr, global_step)\n",
    "                writer.add_scalar(\"Train/SSIM\", avg_ssim, global_step)\n",
    "\n",
    "            # log every 1/20 epoch\n",
    "            if batch_idx % (len(dataloader) // 20 + 1) == 0:\n",
    "                with torch.no_grad():\n",
    "                    x_slice = x[0, 0, :, :, x.shape[4] // 2].cpu().unsqueeze(0)\n",
    "                    y_slice = y[0, 0, :, :, y.shape[4] // 2].cpu().unsqueeze(0)\n",
    "                    pred_slice = pred[0, 0, :, :, pred.shape[4] // 2].cpu().unsqueeze(0)\n",
    "\n",
    "                    grid = make_grid(torch.stack([x_slice, y_slice, pred_slice]), nrow=3, normalize=False)\n",
    "                    writer.add_image(f\"Epoch_{epoch+1}/Input_GT_Pred\", grid, global_step)\n",
    "\n",
    "            global_step += 1\n",
    "\n",
    "        avg_loss = total_loss / len(dataloader)\n",
    "        print(f\"Epoch {epoch + 1}/{epochs}, Avg Loss: {avg_loss:.4f}\")\n",
    "\n",
    "        torch.save(model.state_dict(), f\"./runs/checkpoints/final_run/model_weights_epoch{epoch + 1}.pth\")\n"
   ]
  },
  {
   "cell_type": "code",
   "execution_count": 5,
   "id": "0c1b50bc",
   "metadata": {},
   "outputs": [
    {
     "name": "stdout",
     "output_type": "stream",
     "text": [
      "Starting training...\n"
     ]
    },
    {
     "name": "stderr",
     "output_type": "stream",
     "text": [
      "                                                                            \r"
     ]
    },
    {
     "name": "stdout",
     "output_type": "stream",
     "text": [
      "Epoch 1/6, Avg Loss: 6.4702\n"
     ]
    },
    {
     "name": "stderr",
     "output_type": "stream",
     "text": [
      "                                                                             \r"
     ]
    },
    {
     "name": "stdout",
     "output_type": "stream",
     "text": [
      "Epoch 2/6, Avg Loss: 0.1062\n"
     ]
    },
    {
     "name": "stderr",
     "output_type": "stream",
     "text": [
      "                                                                             \r"
     ]
    },
    {
     "name": "stdout",
     "output_type": "stream",
     "text": [
      "Epoch 3/6, Avg Loss: 0.0588\n"
     ]
    },
    {
     "name": "stderr",
     "output_type": "stream",
     "text": [
      "                                                                             \r"
     ]
    },
    {
     "name": "stdout",
     "output_type": "stream",
     "text": [
      "Epoch 4/6, Avg Loss: 0.0498\n"
     ]
    },
    {
     "name": "stderr",
     "output_type": "stream",
     "text": [
      "                                                                             \r"
     ]
    },
    {
     "name": "stdout",
     "output_type": "stream",
     "text": [
      "Epoch 5/6, Avg Loss: 0.0326\n"
     ]
    },
    {
     "name": "stderr",
     "output_type": "stream",
     "text": [
      "                                                                              \r"
     ]
    },
    {
     "name": "stdout",
     "output_type": "stream",
     "text": [
      "Epoch 6/6, Avg Loss: 0.0222\n"
     ]
    }
   ],
   "source": [
    "root_dir = \"./data\"\n",
    "batch_size = 4\n",
    "num_epochs = 6\n",
    "learning_rate = 1e-4\n",
    "writer = SummaryWriter('runs/final_train_adam/')\n",
    "\n",
    "device = torch.device(\"cuda\" if torch.cuda.is_available() else \"cpu\")\n",
    "\n",
    "full_dataset = FMRI3DDataset(root_dir)\n",
    "\n",
    "train_loader = DataLoader(full_dataset, batch_size=batch_size, shuffle=True, num_workers=4, prefetch_factor=8)\n",
    "\n",
    "model = UNet3DfMRI()\n",
    "print(\"Starting training...\")\n",
    "\n",
    "# Start from pretrained model\n",
    "#model.load_state_dict(torch.load('/home/asharab/Documents/Masters/MRI_PROJECT/runs/checkpoints/final_run/model_weights_epoch2.pth'))\n",
    "\n",
    "model = torch.jit.script(model)\n",
    "train_model(model, train_loader, device, epochs=num_epochs, lr=learning_rate, writer=writer, resume_from=0)\n",
    "\n",
    "writer.close()"
   ]
  },
  {
   "cell_type": "code",
   "execution_count": 6,
   "id": "acf41777",
   "metadata": {},
   "outputs": [
    {
     "name": "stderr",
     "output_type": "stream",
     "text": [
      "                                                                                      "
     ]
    },
    {
     "name": "stdout",
     "output_type": "stream",
     "text": [
      "Evaluation Results — PSNR: 30.2361, SSIM: 0.8826\n"
     ]
    },
    {
     "name": "stderr",
     "output_type": "stream",
     "text": [
      "\r"
     ]
    },
    {
     "data": {
      "text/plain": [
       "(np.float64(30.2360656600988), np.float64(0.8826445585828765))"
      ]
     },
     "execution_count": 6,
     "metadata": {},
     "output_type": "execute_result"
    }
   ],
   "source": [
    "from unet.evaluate import evaluate_model\n",
    "\n",
    "validation_dataset_dir = \"./validation\"\n",
    "batch_size = 2\n",
    "\n",
    "full_dataset = FMRI3DDataset(validation_dataset_dir)\n",
    "validation_loader = DataLoader(full_dataset, batch_size=batch_size, shuffle=False)\n",
    "\n",
    "evaluate_model(model, validation_loader, device)"
   ]
  }
 ],
 "metadata": {
  "kernelspec": {
   "display_name": "mri_project",
   "language": "python",
   "name": "python3"
  },
  "language_info": {
   "codemirror_mode": {
    "name": "ipython",
    "version": 3
   },
   "file_extension": ".py",
   "mimetype": "text/x-python",
   "name": "python",
   "nbconvert_exporter": "python",
   "pygments_lexer": "ipython3",
   "version": "3.12.2"
  }
 },
 "nbformat": 4,
 "nbformat_minor": 5
}
